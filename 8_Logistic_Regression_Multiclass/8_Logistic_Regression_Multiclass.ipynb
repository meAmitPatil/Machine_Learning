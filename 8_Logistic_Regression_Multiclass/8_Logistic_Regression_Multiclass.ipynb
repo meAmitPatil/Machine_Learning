{
  "nbformat": 4,
  "nbformat_minor": 0,
  "metadata": {
    "colab": {
      "provenance": []
    },
    "kernelspec": {
      "name": "python3",
      "display_name": "Python 3"
    },
    "language_info": {
      "name": "python"
    }
  },
  "cells": [
    {
      "cell_type": "code",
      "execution_count": 2,
      "metadata": {
        "id": "pCARNa8yWyD-"
      },
      "outputs": [],
      "source": [
        "import matplotlib.pyplot as plt\n",
        "\n",
        "from sklearn.datasets import load_digits"
      ]
    },
    {
      "cell_type": "code",
      "source": [
        "digits = load_digits()"
      ],
      "metadata": {
        "id": "oig8XkB9mnQR"
      },
      "execution_count": 3,
      "outputs": []
    },
    {
      "cell_type": "code",
      "source": [
        "dir(digits)"
      ],
      "metadata": {
        "colab": {
          "base_uri": "https://localhost:8080/"
        },
        "id": "v5G3Ud3hmwmj",
        "outputId": "ffcf4420-733f-4dd4-8272-adcfc9dc5517"
      },
      "execution_count": 4,
      "outputs": [
        {
          "output_type": "execute_result",
          "data": {
            "text/plain": [
              "['DESCR', 'data', 'feature_names', 'frame', 'images', 'target', 'target_names']"
            ]
          },
          "metadata": {},
          "execution_count": 4
        }
      ]
    },
    {
      "cell_type": "code",
      "source": [
        "digits.data[0]"
      ],
      "metadata": {
        "colab": {
          "base_uri": "https://localhost:8080/"
        },
        "id": "5D_B4Eeymy54",
        "outputId": "ef9bb266-dfff-4fbf-b90b-0c05c2e4ba83"
      },
      "execution_count": 5,
      "outputs": [
        {
          "output_type": "execute_result",
          "data": {
            "text/plain": [
              "array([ 0.,  0.,  5., 13.,  9.,  1.,  0.,  0.,  0.,  0., 13., 15., 10.,\n",
              "       15.,  5.,  0.,  0.,  3., 15.,  2.,  0., 11.,  8.,  0.,  0.,  4.,\n",
              "       12.,  0.,  0.,  8.,  8.,  0.,  0.,  5.,  8.,  0.,  0.,  9.,  8.,\n",
              "        0.,  0.,  4., 11.,  0.,  1., 12.,  7.,  0.,  0.,  2., 14.,  5.,\n",
              "       10., 12.,  0.,  0.,  0.,  0.,  6., 13., 10.,  0.,  0.,  0.])"
            ]
          },
          "metadata": {},
          "execution_count": 5
        }
      ]
    },
    {
      "cell_type": "code",
      "source": [
        "plt.gray()\n",
        "plt.matshow(digits.images[0])"
      ],
      "metadata": {
        "colab": {
          "base_uri": "https://localhost:8080/",
          "height": 473
        },
        "id": "1AUuDRcsnJvy",
        "outputId": "3c500666-7683-45aa-9792-1c9c98ec66c9"
      },
      "execution_count": 8,
      "outputs": [
        {
          "output_type": "execute_result",
          "data": {
            "text/plain": [
              "<matplotlib.image.AxesImage at 0x793ce0978ac0>"
            ]
          },
          "metadata": {},
          "execution_count": 8
        },
        {
          "output_type": "display_data",
          "data": {
            "text/plain": [
              "<Figure size 640x480 with 0 Axes>"
            ]
          },
          "metadata": {}
        },
        {
          "output_type": "display_data",
          "data": {
            "text/plain": [
              "<Figure size 480x480 with 1 Axes>"
            ],
            "image/png": "[encoded data removed]"
          },
          "metadata": {}
        }
      ]
    },
    {
      "cell_type": "code",
      "source": [
        "from sklearn.model_selection import train_test_split"
      ],
      "metadata": {
        "id": "YkT3UNSknMhR"
      },
      "execution_count": 9,
      "outputs": []
    },
    {
      "cell_type": "code",
      "source": [
        "X_train, X_test, y_train, y_test = train_test_split(digits.data, digits.target, test_size=0.2)"
      ],
      "metadata": {
        "id": "xnH8S8wArca6"
      },
      "execution_count": 10,
      "outputs": []
    },
    {
      "cell_type": "code",
      "source": [
        "from sklearn.linear_model import LogisticRegression"
      ],
      "metadata": {
        "id": "5yQ6tA15r3eC"
      },
      "execution_count": 11,
      "outputs": []
    },
    {
      "cell_type": "code",
      "source": [
        "model = LogisticRegression()"
      ],
      "metadata": {
        "id": "Hsaqbk4rr4xc"
      },
      "execution_count": 12,
      "outputs": []
    },
    {
      "cell_type": "code",
      "source": [
        "model.fit(X_train, y_train)"
      ],
      "metadata": {
        "colab": {
          "base_uri": "https://localhost:8080/",
          "height": 218
        },
        "id": "wM2E4zQNr58D",
        "outputId": "4da14520-7baf-4c71-91ad-aa1e33afbe5f"
      },
      "execution_count": 13,
      "outputs": [
        {
          "output_type": "stream",
          "name": "stderr",
          "text": [
            "/usr/local/lib/python3.10/dist-packages/sklearn/linear_model/_logistic.py:460: ConvergenceWarning: lbfgs failed to converge (status=1):\n",
            "STOP: TOTAL NO. of ITERATIONS REACHED LIMIT.\n",
            "\n",
            "Increase the number of iterations (max_iter) or scale the data as shown in:\n",
            "    https://scikit-learn.org/stable/modules/preprocessing.html\n",
            "Please also refer to the documentation for alternative solver options:\n",
            "    https://scikit-learn.org/stable/modules/linear_model.html#logistic-regression\n",
            "  n_iter_i = _check_optimize_result(\n"
          ]
        },
        {
          "output_type": "execute_result",
          "data": {
            "text/plain": [
              "LogisticRegression()"
            ],
            "text/html": [
              "<style>#sk-container-id-1 {color: black;}#sk-container-id-1 pre{padding: 0;}#sk-container-id-1 div.sk-toggleable {background-color: white;}#sk-container-id-1 label.sk-toggleable__label {cursor: pointer;display: block;width: 100%;margin-bottom: 0;padding: 0.3em;box-sizing: border-box;text-align: center;}#sk-container-id-1 label.sk-toggleable__label-arrow:before {content: \"▸\";float: left;margin-right: 0.25em;color: #696969;}#sk-container-id-1 label.sk-toggleable__label-arrow:hover:before {color: black;}#sk-container-id-1 div.sk-estimator:hover label.sk-toggleable__label-arrow:before {color: black;}#sk-container-id-1 div.sk-toggleable__content {max-height: 0;max-width: 0;overflow: hidden;text-align: left;background-color: #f0f8ff;}#sk-container-id-1 div.sk-toggleable__content pre {margin: 0.2em;color: black;border-radius: 0.25em;background-color: #f0f8ff;}#sk-container-id-1 input.sk-toggleable__control:checked~div.sk-toggleable__content {max-height: 200px;max-width: 100%;overflow: auto;}#sk-container-id-1 input.sk-toggleable__control:checked~label.sk-toggleable__label-arrow:before {content: \"▾\";}#sk-container-id-1 div.sk-estimator input.sk-toggleable__control:checked~label.sk-toggleable__label {background-color: #d4ebff;}#sk-container-id-1 div.sk-label input.sk-toggleable__control:checked~label.sk-toggleable__label {background-color: #d4ebff;}#sk-container-id-1 input.sk-hidden--visually {border: 0;clip: rect(1px 1px 1px 1px);clip: rect(1px, 1px, 1px, 1px);height: 1px;margin: -1px;overflow: hidden;padding: 0;position: absolute;width: 1px;}#sk-container-id-1 div.sk-estimator {font-family: monospace;background-color: #f0f8ff;border: 1px dotted black;border-radius: 0.25em;box-sizing: border-box;margin-bottom: 0.5em;}#sk-container-id-1 div.sk-estimator:hover {background-color: #d4ebff;}#sk-container-id-1 div.sk-parallel-item::after {content: \"\";width: 100%;border-bottom: 1px solid gray;flex-grow: 1;}#sk-container-id-1 div.sk-label:hover label.sk-toggleable__label {background-color: #d4ebff;}#sk-container-id-1 div.sk-serial::before {content: \"\";position: absolute;border-left: 1px solid gray;box-sizing: border-box;top: 0;bottom: 0;left: 50%;z-index: 0;}#sk-container-id-1 div.sk-serial {display: flex;flex-direction: column;align-items: center;background-color: white;padding-right: 0.2em;padding-left: 0.2em;position: relative;}#sk-container-id-1 div.sk-item {position: relative;z-index: 1;}#sk-container-id-1 div.sk-parallel {display: flex;align-items: stretch;justify-content: center;background-color: white;position: relative;}#sk-container-id-1 div.sk-item::before, #sk-container-id-1 div.sk-parallel-item::before {content: \"\";position: absolute;border-left: 1px solid gray;box-sizing: border-box;top: 0;bottom: 0;left: 50%;z-index: -1;}#sk-container-id-1 div.sk-parallel-item {display: flex;flex-direction: column;z-index: 1;position: relative;background-color: white;}#sk-container-id-1 div.sk-parallel-item:first-child::after {align-self: flex-end;width: 50%;}#sk-container-id-1 div.sk-parallel-item:last-child::after {align-self: flex-start;width: 50%;}#sk-container-id-1 div.sk-parallel-item:only-child::after {width: 0;}#sk-container-id-1 div.sk-dashed-wrapped {border: 1px dashed gray;margin: 0 0.4em 0.5em 0.4em;box-sizing: border-box;padding-bottom: 0.4em;background-color: white;}#sk-container-id-1 div.sk-label label {font-family: monospace;font-weight: bold;display: inline-block;line-height: 1.2em;}#sk-container-id-1 div.sk-label-container {text-align: center;}#sk-container-id-1 div.sk-container {/* jupyter's `normalize.less` sets `[hidden] { display: none; }` but bootstrap.min.css set `[hidden] { display: none !important; }` so we also need the `!important` here to be able to override the default hidden behavior on the sphinx rendered scikit-learn.org. See: https://github.com/scikit-learn/scikit-learn/issues/21755 */display: inline-block !important;position: relative;}#sk-container-id-1 div.sk-text-repr-fallback {display: none;}</style><div id=\"sk-container-id-1\" class=\"sk-top-container\"><div class=\"sk-text-repr-fallback\"><pre>LogisticRegression()</pre><b>In a Jupyter environment, please rerun this cell to show the HTML representation or trust the notebook. <br />On GitHub, the HTML representation is unable to render, please try loading this page with nbviewer.org.</b></div><div class=\"sk-container\" hidden><div class=\"sk-item\"><div class=\"sk-estimator sk-toggleable\"><input class=\"sk-toggleable__control sk-hidden--visually\" id=\"sk-estimator-id-1\" type=\"checkbox\" checked><label for=\"sk-estimator-id-1\" class=\"sk-toggleable__label sk-toggleable__label-arrow\">LogisticRegression</label><div class=\"sk-toggleable__content\"><pre>LogisticRegression()</pre></div></div></div></div></div>"
            ]
          },
          "metadata": {},
          "execution_count": 13
        }
      ]
    },
    {
      "cell_type": "code",
      "source": [
        "model.predict(X_test)"
      ],
      "metadata": {
        "colab": {
          "base_uri": "https://localhost:8080/"
        },
        "id": "ch42_jN3r7Ky",
        "outputId": "124bc39a-5c64-4dc1-c43b-84f1c609aff8"
      },
      "execution_count": 14,
      "outputs": [
        {
          "output_type": "execute_result",
          "data": {
            "text/plain": [
              "array([9, 7, 3, 6, 1, 8, 3, 0, 5, 0, 4, 3, 1, 7, 7, 6, 9, 4, 0, 6, 3, 1,\n",
              "       3, 0, 9, 2, 1, 2, 1, 9, 6, 1, 7, 4, 2, 0, 2, 2, 8, 9, 4, 1, 3, 5,\n",
              "       7, 1, 5, 9, 1, 0, 9, 0, 8, 4, 4, 5, 3, 3, 7, 8, 8, 0, 1, 3, 3, 2,\n",
              "       7, 3, 4, 8, 9, 4, 3, 2, 7, 1, 8, 9, 1, 9, 2, 1, 5, 5, 7, 2, 6, 3,\n",
              "       4, 0, 6, 6, 6, 4, 7, 9, 2, 8, 0, 4, 4, 4, 9, 2, 2, 5, 9, 7, 9, 4,\n",
              "       6, 4, 4, 8, 7, 5, 4, 3, 9, 4, 2, 0, 1, 2, 1, 1, 0, 7, 0, 2, 6, 1,\n",
              "       9, 4, 6, 8, 8, 1, 1, 0, 1, 6, 8, 1, 1, 3, 2, 7, 8, 5, 6, 1, 0, 2,\n",
              "       8, 6, 1, 5, 6, 3, 4, 2, 2, 7, 4, 0, 8, 7, 8, 6, 7, 3, 6, 7, 5, 4,\n",
              "       3, 0, 7, 8, 7, 6, 0, 1, 7, 5, 6, 4, 0, 8, 6, 2, 5, 4, 9, 1, 3, 4,\n",
              "       5, 5, 5, 7, 5, 3, 1, 1, 7, 9, 8, 2, 6, 1, 7, 9, 4, 2, 1, 2, 1, 4,\n",
              "       4, 7, 2, 0, 9, 2, 8, 8, 2, 1, 8, 3, 4, 8, 5, 7, 7, 2, 1, 4, 8, 4,\n",
              "       7, 9, 2, 9, 1, 0, 5, 0, 2, 4, 2, 4, 8, 8, 0, 2, 6, 5, 3, 7, 8, 9,\n",
              "       5, 8, 6, 0, 7, 9, 9, 4, 8, 0, 7, 3, 0, 8, 6, 0, 3, 9, 2, 0, 2, 0,\n",
              "       6, 8, 9, 9, 7, 5, 4, 1, 4, 5, 5, 7, 3, 9, 8, 9, 0, 3, 4, 4, 2, 3,\n",
              "       7, 2, 7, 7, 1, 4, 7, 9, 9, 4, 5, 7, 2, 2, 4, 5, 1, 6, 4, 5, 9, 9,\n",
              "       0, 9, 3, 6, 4, 6, 5, 0, 1, 7, 9, 9, 8, 2, 7, 9, 9, 2, 1, 3, 4, 1,\n",
              "       2, 4, 4, 2, 7, 8, 6, 6])"
            ]
          },
          "metadata": {},
          "execution_count": 14
        }
      ]
    },
    {
      "cell_type": "code",
      "source": [
        "y_test"
      ],
      "metadata": {
        "colab": {
          "base_uri": "https://localhost:8080/"
        },
        "id": "_joLVeTZr9or",
        "outputId": "a3118ee8-a61b-4e84-ef81-471f8a49836a"
      },
      "execution_count": 15,
      "outputs": [
        {
          "output_type": "execute_result",
          "data": {
            "text/plain": [
              "array([5, 7, 3, 6, 1, 8, 3, 0, 5, 0, 4, 3, 1, 7, 7, 6, 9, 4, 0, 6, 3, 1,\n",
              "       3, 0, 9, 2, 1, 2, 1, 9, 6, 1, 7, 4, 2, 0, 2, 2, 8, 9, 4, 1, 3, 5,\n",
              "       7, 1, 5, 9, 1, 0, 3, 0, 8, 4, 4, 5, 3, 3, 7, 8, 8, 0, 1, 3, 3, 2,\n",
              "       7, 3, 4, 8, 9, 4, 3, 2, 7, 1, 8, 9, 1, 9, 2, 8, 5, 5, 4, 2, 6, 3,\n",
              "       4, 0, 6, 6, 6, 4, 7, 9, 2, 8, 0, 4, 4, 7, 9, 2, 2, 5, 9, 7, 9, 4,\n",
              "       6, 4, 4, 8, 7, 6, 4, 3, 5, 4, 2, 0, 1, 2, 1, 1, 0, 7, 0, 2, 6, 8,\n",
              "       9, 4, 6, 8, 8, 1, 1, 0, 1, 6, 8, 1, 1, 3, 2, 7, 8, 5, 6, 6, 0, 2,\n",
              "       8, 6, 1, 5, 6, 3, 4, 2, 2, 7, 4, 0, 8, 7, 8, 6, 7, 3, 6, 7, 5, 4,\n",
              "       3, 0, 5, 8, 7, 6, 0, 1, 7, 5, 6, 4, 0, 8, 6, 0, 5, 4, 9, 1, 3, 4,\n",
              "       5, 5, 5, 7, 5, 3, 1, 5, 7, 9, 8, 2, 6, 1, 7, 9, 4, 2, 1, 2, 1, 4,\n",
              "       4, 7, 2, 0, 9, 2, 8, 8, 2, 1, 8, 3, 4, 1, 5, 7, 7, 2, 1, 4, 8, 4,\n",
              "       7, 9, 2, 9, 1, 0, 5, 0, 2, 4, 2, 4, 8, 8, 0, 2, 6, 5, 3, 7, 9, 9,\n",
              "       5, 8, 6, 0, 7, 9, 9, 4, 8, 0, 7, 3, 0, 8, 6, 0, 3, 9, 2, 0, 2, 0,\n",
              "       6, 8, 9, 9, 7, 5, 4, 1, 4, 9, 5, 7, 3, 9, 8, 9, 0, 3, 4, 4, 2, 3,\n",
              "       7, 2, 7, 7, 1, 4, 7, 9, 9, 4, 5, 7, 2, 2, 4, 5, 1, 6, 4, 5, 9, 9,\n",
              "       0, 9, 3, 6, 4, 6, 5, 0, 1, 7, 9, 9, 8, 2, 7, 9, 9, 2, 1, 3, 4, 1,\n",
              "       2, 4, 4, 2, 7, 8, 6, 6])"
            ]
          },
          "metadata": {},
          "execution_count": 15
        }
      ]
    },
    {
      "cell_type": "code",
      "source": [
        "model.score(X_test, y_test)"
      ],
      "metadata": {
        "colab": {
          "base_uri": "https://localhost:8080/"
        },
        "id": "o0xhGx_msAcr",
        "outputId": "a8a3d32e-abbe-4b64-fbec-c4bb035d6a9a"
      },
      "execution_count": 16,
      "outputs": [
        {
          "output_type": "execute_result",
          "data": {
            "text/plain": [
              "0.9583333333333334"
            ]
          },
          "metadata": {},
          "execution_count": 16
        }
      ]
    },
    {
      "cell_type": "code",
      "source": [
        "y_predicted = model.predict(X_test)\n",
        "from sklearn.metrics import confusion_matrix\n",
        "\n",
        "cm = confusion_matrix(y_test, y_predicted)"
      ],
      "metadata": {
        "id": "pIEhpa65u72t"
      },
      "execution_count": 20,
      "outputs": []
    },
    {
      "cell_type": "code",
      "source": [
        "import seaborn as sn\n",
        "plt.figure(figsize=(10,7))\n",
        "sn.heatmap(cm, annot=True)\n",
        "plt.xlabel('Predicted')\n",
        "plt.ylabel('Truth')"
      ],
      "metadata": {
        "colab": {
          "base_uri": "https://localhost:8080/",
          "height": 642
        },
        "id": "9xWoeb_RwaMj",
        "outputId": "2f1716f0-bfb5-4c7d-f88d-8ff954e12c57"
      },
      "execution_count": 21,
      "outputs": [
        {
          "output_type": "execute_result",
          "data": {
            "text/plain": [
              "Text(95.72222222222221, 0.5, 'Truth')"
            ]
          },
          "metadata": {},
          "execution_count": 21
        },
        {
          "output_type": "display_data",
          "data": {
            "text/plain": [
              "<Figure size 1000x700 with 2 Axes>"
            ],
            "image/png": "[encoded data removed]"
          },
          "metadata": {}
        }
      ]
    },
    {
      "cell_type": "code",
      "source": [],
      "metadata": {
        "id": "nBSWSeGXwy9Z"
      },
      "execution_count": null,
      "outputs": []
    }
  ]
}